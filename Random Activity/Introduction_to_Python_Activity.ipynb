{
  "nbformat": 4,
  "nbformat_minor": 0,
  "metadata": {
    "colab": {
      "provenance": []
    },
    "kernelspec": {
      "name": "python3",
      "display_name": "Python 3"
    },
    "language_info": {
      "name": "python"
    }
  },
  "cells": [
    {
      "cell_type": "markdown",
      "source": [
        "# Introduction to Python Activity\n",
        "by [John Ferry Lagman](https://ph.linkedin.com/in/thatjohnlagman)\n",
        "\n",
        "**Hi there! 👋**\n",
        "\n",
        "Thank you for showing up and being ready to learn something new today. This activity is designed to help you practice and apply the basics of Python programming.\n",
        "\n",
        "You’ll get to work on problems about:\n",
        "\n",
        "- Variables and Data Types\n",
        "- Type Conversion\n",
        "- Basic Operations (Arithmetic, Relational, and Logical)\n",
        "- Conditionals\n",
        "- Loops\n",
        "- Comments\n",
        "- F-strings (String Formatting)\n",
        "- String Methods\n",
        "\n",
        "Feel free to take things at your own pace and focus on building a solid understanding. Remember, every small step counts, and it’s okay to stumble—that’s how we grow. Let’s get started and make this a fun and productive experience!\n",
        "\n",
        "\n",
        "---\n",
        "\n",
        "## Guidelines\n",
        "- Solve each task in the designated cell below.\n",
        "- Each task includes instructions and optional tips for guidance.\n",
        "- Ensure your code is clear and easy to read.\n",
        "- Add docstrings and comments where necessary to explain your code.\n",
        "\n",
        "---"
      ],
      "metadata": {
        "id": "v3XMdi6ujNXs"
      }
    },
    {
      "cell_type": "markdown",
      "source": [
        "### Task 1: Simple Arithmetic and Data Conversion (Beginner Level)\n",
        "\n",
        "### Create a program that:\n",
        "1. Prompts the user to enter two numbers.\n",
        "2. Adds the numbers together.\n",
        "3. Displays the result using an f-string.\n",
        "\n",
        "Steps to follow:\n",
        "- Use `input()` to gather user input.\n",
        "- Convert the input values into integers with `int()`.\n",
        "- Perform the addition operation.\n",
        "- Print the result in a formatted string.\n",
        "\n",
        "Tip: Be careful to correctly convert strings to numbers before performing arithmetic.\n"
      ],
      "metadata": {
        "id": "CNaHvS7wjmAR"
      }
    },
    {
      "cell_type": "code",
      "execution_count": null,
      "metadata": {
        "id": "uqUob5k8jAfv"
      },
      "outputs": [],
      "source": [
        "# Write your code below\n",
        "def main():\n",
        "\n",
        "  input1 = input(\"First Number: \")\n",
        "  input2 = input(\"Second Number: \")\n",
        "\n",
        "  num1 = int(input1)\n",
        "  num2 = int(input2)\n",
        "\n",
        "  sum = num1 + num2\n",
        "  print(f\"The sum of {num1} and {num2} is {sum}\")"
      ]
    },
    {
      "cell_type": "markdown",
      "source": [
        "---"
      ],
      "metadata": {
        "id": "a5yqiccsjqPA"
      }
    },
    {
      "cell_type": "markdown",
      "source": [
        "### Task 2: Loops and Conditional Statements (Intermediate Level)"
      ],
      "metadata": {
        "id": "BvT0fdIvjsBx"
      }
    },
    {
      "cell_type": "markdown",
      "source": [
        "### Develop a program that:\n",
        "1. Asks the user to provide a number.\n",
        "2. Prints all numbers from 1 to the entered number, tagging each as \"even\" or \"odd.\"\n",
        "\n",
        "Steps to follow:\n",
        "- Use `input()` to receive the user's number.\n",
        "- Convert the input to an integer type.\n",
        "- Use a `for` loop to iterate through the range of numbers.\n",
        "- Use conditional logic to determine whether a number is even or odd.\n",
        "- Print the number along with its corresponding tag."
      ],
      "metadata": {
        "id": "UeGx7sthj12J"
      }
    },
    {
      "cell_type": "code",
      "source": [
        "# Your code here\n",
        "user_input = input(\"Enter a number: \")\n",
        "\n",
        "try:\n",
        "    number = int(user_input)\n",
        "    for i in range(1, number + 1):\n",
        "        if i % 2 == 0:\n",
        "            print(f\"{i} is even\")\n",
        "        else:\n",
        "            print(f\"{i} is odd\")\n",
        "\n",
        "except ValError:\n",
        "    print(\"Please enter a valid integer.\")"
      ],
      "metadata": {
        "id": "mwV6SDVnlDVI",
        "colab": {
          "base_uri": "https://localhost:8080/"
        },
        "outputId": "ce496005-508e-4fb5-a255-7b54101977ea"
      },
      "execution_count": 2,
      "outputs": [
        {
          "output_type": "stream",
          "name": "stdout",
          "text": [
            "Enter a number: 10\n",
            "1 is odd\n",
            "2 is even\n",
            "3 is odd\n",
            "4 is even\n",
            "5 is odd\n",
            "6 is even\n",
            "7 is odd\n",
            "8 is even\n",
            "9 is odd\n",
            "10 is even\n"
          ]
        }
      ]
    },
    {
      "cell_type": "markdown",
      "source": [
        "---"
      ],
      "metadata": {
        "id": "IylsIduJj41R"
      }
    },
    {
      "cell_type": "markdown",
      "source": [
        "### Task 3: Working with Strings (Advanced Level)\n",
        "\n"
      ],
      "metadata": {
        "id": "DdZ7TQ4pj7Ol"
      }
    },
    {
      "cell_type": "markdown",
      "source": [
        "\n",
        "### Design a program that:\n",
        "1. Accepts a sentence from the user.\n",
        "2. Outputs the following:\n",
        "   - The sentence in uppercase letters.\n",
        "   - The sentence in lowercase letters.\n",
        "   - The total word count in the sentence.\n",
        "   - The sentence reversed.\n",
        "\n",
        "Steps to follow:\n",
        "- Use `input()` to collect the sentence from the user.\n",
        "- Apply string methods like `.upper()`, `.lower()`, `.split()`, and slicing for the required outputs.\n",
        "- Count the words by determining the length of the list returned by `.split()`.\n",
        "- Format and print the results clearly.\n",
        "\n",
        "Tip: Trim unnecessary spaces from the input before processing using `.strip()`.\n",
        "\n"
      ],
      "metadata": {
        "id": "9TDQaF13j-jB"
      }
    },
    {
      "cell_type": "code",
      "source": [
        "# Your code here\n",
        "user_input = input(\"Enter a sentence: \")\n",
        "\n",
        "sentence = user_input.strip()\n",
        "uppercase = sentence.upper()\n",
        "lowercase = sentence.lower()\n",
        "words = sentence.split()\n",
        "word_count = len(words)\n",
        "reversed_sentence = sentence[::-1]\n",
        "\n",
        "print(f\"Uppercase     : {uppercase}\")\n",
        "print(f\"Lowercase     : {lowercase}\")\n",
        "print(f\"Word Count    : {word_count}\")\n",
        "print(f\"Reversed Text : {reversed_sentence}\")"
      ],
      "metadata": {
        "id": "901uZBIVkopC",
        "colab": {
          "base_uri": "https://localhost:8080/"
        },
        "outputId": "a1cc1f18-1f34-427d-bd84-a7e55f0a0f2b"
      },
      "execution_count": 3,
      "outputs": [
        {
          "output_type": "stream",
          "name": "stdout",
          "text": [
            "Enter a sentence: The lazy fox jump over the dog.\n",
            "Uppercase     : THE LAZY FOX JUMP OVER THE DOG.\n",
            "Lowercase     : the lazy fox jump over the dog.\n",
            "Word Count    : 7\n",
            "Reversed Text : .god eht revo pmuj xof yzal ehT\n"
          ]
        }
      ]
    },
    {
      "cell_type": "markdown",
      "source": [
        "---"
      ],
      "metadata": {
        "id": "gDj7hHwNj_9F"
      }
    },
    {
      "cell_type": "markdown",
      "source": [
        "# Thank you!"
      ],
      "metadata": {
        "id": "SYSiIUiMk5Yu"
      }
    },
    {
      "cell_type": "markdown",
      "source": [
        "You can also access a lot more information here:\n",
        "\n",
        "- **[LearnPython.org](https://www.learnpython.org/)**: An interactive tutorial suitable for both beginners and\n",
        "- **[W3Schools Python Introduction](https://www.w3schools.com/python/python_intro.asp)**: Provides a beginner-friendly introduction to Python, including tutorials and examples.\n",
        "- **[GeeksforGeeks Python Introduction](https://www.geeksforgeeks.org/introduction-to-python-for-absolute-beginners/)**: A step-by-step tutorial designed for absolute beginners to learn Python programming.\n",
        "- **[Real Python Basics](https://realpython.com/tutorials/basics/)**: Offers in-depth articles and tutorials on Python basics, suitable for beginners.\n",
        "- **[freeCodeCamp Python Courses](https://www.freecodecamp.org/news/learn-python-free-python-courses-for-beginners/)**: A collection of free Python courses aimed at beginners, covering various aspects of Python programming.\n",
        "- **[Python Land Resources](https://python.land/python-resources)**: Provides a curated list of Python learning resources, including tutorials and books.\n",
        "- **[Introduction to Python | DataCamp](https://www.datacamp.com/courses/intro-to-python-for-data-science)**: A comprehensive course designed for beginners to learn Python for data science applications.\n",
        "\n",
        "\n",
        "\n"
      ],
      "metadata": {
        "id": "PxAsEsC4lG1-"
      }
    }
  ]
}