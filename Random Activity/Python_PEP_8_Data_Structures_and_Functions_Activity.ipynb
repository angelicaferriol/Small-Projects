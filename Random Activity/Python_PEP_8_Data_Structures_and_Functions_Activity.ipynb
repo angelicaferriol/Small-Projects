{
  "nbformat": 4,
  "nbformat_minor": 0,
  "metadata": {
    "colab": {
      "provenance": []
    },
    "kernelspec": {
      "name": "python3",
      "display_name": "Python 3"
    },
    "language_info": {
      "name": "python"
    }
  },
  "cells": [
    {
      "cell_type": "markdown",
      "source": [
        "# Python PEP 8, Data Structures, and Functions Activity\n",
        "# Workshop Activity Notebook\n",
        "by [Jen Patrick Nataba](https://www.linkedin.com/in/cytojen/)  \n",
        "\n",
        "**Hello, Learners! 👋**\n",
        "\n",
        "I hope that you guys found our Python workshop meaningful! This Python Data Structures and Functions Activity is designed to help you explore and practice your coding skills.\n",
        "\n",
        "Take your time and approach each problem at your own pace. There's no need to rush—learning is a process, and you're doing great just by being here! If you feel stuck, remember that the hints and guidelines are there to support you.\n",
        "\n",
        "**I hope this activity helps you learn and feel more confident with Python. You've got this! 💪**"
      ],
      "metadata": {
        "id": "vmamVyTLfj4q"
      }
    },
    {
      "cell_type": "markdown",
      "source": [
        "## Instructions\n",
        "- Solve each problem in the cells provided below.\n",
        "- Each problem has guided instructions and hints to help you.\n",
        "- Follow the extra guidelines provided.\n",
        "- Ensure your code is clean and well-documented.\n",
        "- Use proper docstrings and comments for all functions.\n",
        "\n",
        "---"
      ],
      "metadata": {
        "id": "B--Mt6IGgPe-"
      }
    },
    {
      "cell_type": "markdown",
      "source": [
        "## Problem 1: Identify PEP 8 Compliance (Easy)\n",
        "Below are two implementations of a function that calculates the square of a number. Identify which implementation follows PEP 8 standards."
      ],
      "metadata": {
        "id": "x6C3SOlAgSwL"
      }
    },
    {
      "cell_type": "markdown",
      "source": [
        "Implementation A:\n",
        "```\n",
        "def square (num):\n",
        " return num*num\n",
        "```\n",
        "\n",
        "Implementation B:\n",
        "```\n",
        "def square(num):\n",
        "    return num * num\n",
        "```\n",
        "\n",
        "Guidelines:\n",
        "1. Review the code and check it against PEP 8 guidelines.\n",
        "2. Write your answer in the cell provided below.\n",
        "\n",
        "Hint: Pay attention to spaces, indentation, and formatting.\n"
      ],
      "metadata": {
        "id": "cglOE6HFgac1"
      }
    },
    {
      "cell_type": "code",
      "source": [],
      "metadata": {
        "id": "7pVtBEvvdwsj"
      },
      "execution_count": null,
      "outputs": []
    },
    {
      "cell_type": "markdown",
      "source": [
        "Your Answer here: ______"
      ],
      "metadata": {
        "id": "iBOXaiSBgdyZ"
      }
    },
    {
      "cell_type": "markdown",
      "source": [
        "---"
      ],
      "metadata": {
        "id": "lV3AHZRCgjSn"
      }
    },
    {
      "cell_type": "markdown",
      "source": [
        "## Problem 2: Looping with Functions (Normal)\n",
        "Write a function called `filter_even_numbers` that accepts a list of integers and returns a new list containing only the even numbers.\n",
        "\n",
        "Guidelines:\n",
        "1. Define a function with one parameter for the input list.\n",
        "2. Use a loop to iterate through the list.\n",
        "3. Use conditional statements to check if a number is even.\n",
        "4. Append the even numbers to a new list and return it."
      ],
      "metadata": {
        "id": "ZXMx4UOrglsG"
      }
    },
    {
      "cell_type": "code",
      "source": [
        "# Your code here\n",
        "\n",
        "def filter_even_numbers(numbers):\n",
        "    \"\"\"\n",
        "    Function to filter even numbers from a list.\n",
        "\n",
        "    Parameters:\n",
        "    numbers (list): A list of integers.\n",
        "\n",
        "    Returns:\n",
        "    list: A list of even integers.\n",
        "    \"\"\"\n",
        "    # Your implementation here\n"
      ],
      "metadata": {
        "id": "g78jl_b4hB0Z"
      },
      "execution_count": null,
      "outputs": []
    },
    {
      "cell_type": "markdown",
      "source": [
        "---"
      ],
      "metadata": {
        "id": "OJjSUA2hhFq2"
      }
    },
    {
      "cell_type": "markdown",
      "source": [
        "## Problem 3: Real-World Data Structures (Hard)\n",
        "Write a program that helps track attendees at a meeting. Create a function called `get_absentees` that takes a list of registered participants and a list of attendees, and returns a set of absentees.\n",
        "\n",
        "Guidelines:\n",
        "1. Define a function with two parameters: the registered participants and the attendees.\n",
        "2. Use `set()` to handle the data.\n",
        "3. Use set operations to find the absentees (registered participants not in attendees).\n",
        "4. Return the result as a set."
      ],
      "metadata": {
        "id": "SAINiFrYhIOA"
      }
    },
    {
      "cell_type": "code",
      "source": [
        "# Your code here\n",
        "\n",
        "def get_absentees(registered, attendees):\n",
        "    \"\"\"\n",
        "    Function to get the set of absentees from a meeting.\n",
        "\n",
        "    Parameters:\n",
        "    registered (list): A list of registered participants.\n",
        "    attendees (list): A list of attendees.\n",
        "\n",
        "    Returns:\n",
        "    set: A set of absentees.\n",
        "    \"\"\"\n",
        "    # Your implementation here"
      ],
      "metadata": {
        "id": "H8uJ0rg3hF5t"
      },
      "execution_count": null,
      "outputs": []
    },
    {
      "cell_type": "markdown",
      "source": [
        "---\n"
      ],
      "metadata": {
        "id": "PP3XBUIahSeb"
      }
    },
    {
      "cell_type": "markdown",
      "source": [
        "### Thank you for taking the time to view and answer this :D!\n",
        "I hope you guys had fun doing this, wishing you all the best."
      ],
      "metadata": {
        "id": "-QpnPt3hhULd"
      }
    },
    {
      "cell_type": "markdown",
      "source": [
        "## Additional Resources\n",
        "- [Introduction to Python | DataCamp](https://www.datacamp.com/courses/intro-to-python-for-data-science)"
      ],
      "metadata": {
        "id": "r7Zbhm8RheGp"
      }
    }
  ]
}