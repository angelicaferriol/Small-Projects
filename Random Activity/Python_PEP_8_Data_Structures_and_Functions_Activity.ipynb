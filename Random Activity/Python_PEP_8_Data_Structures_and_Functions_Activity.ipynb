{
  "cells": [
    {
      "cell_type": "markdown",
      "metadata": {
        "id": "vmamVyTLfj4q"
      },
      "source": [
        "# Python PEP 8, Data Structures, and Functions Activity\n",
        "# Workshop Activity Notebook\n",
        "by [Jen Patrick Nataba](https://www.linkedin.com/in/cytojen/)  \n",
        "\n",
        "**Hello, Learners! 👋**\n",
        "\n",
        "I hope that you guys found our Python workshop meaningful! This Python Data Structures and Functions Activity is designed to help you explore and practice your coding skills.\n",
        "\n",
        "Take your time and approach each problem at your own pace. There's no need to rush—learning is a process, and you're doing great just by being here! If you feel stuck, remember that the hints and guidelines are there to support you.\n",
        "\n",
        "**I hope this activity helps you learn and feel more confident with Python. You've got this! 💪**"
      ]
    },
    {
      "cell_type": "markdown",
      "metadata": {
        "id": "B--Mt6IGgPe-"
      },
      "source": [
        "## Instructions\n",
        "- Solve each problem in the cells provided below.\n",
        "- Each problem has guided instructions and hints to help you.\n",
        "- Follow the extra guidelines provided.\n",
        "- Ensure your code is clean and well-documented.\n",
        "- Use proper docstrings and comments for all functions.\n",
        "\n",
        "---"
      ]
    },
    {
      "cell_type": "markdown",
      "metadata": {
        "id": "x6C3SOlAgSwL"
      },
      "source": [
        "## Problem 1: Identify PEP 8 Compliance (Easy)\n",
        "Below are two implementations of a function that calculates the square of a number. Identify which implementation follows PEP 8 standards."
      ]
    },
    {
      "cell_type": "markdown",
      "metadata": {
        "id": "cglOE6HFgac1"
      },
      "source": [
        "Implementation A:\n",
        "```\n",
        "def square (num):\n",
        " return num*num\n",
        "```\n",
        "\n",
        "Implementation B:\n",
        "```\n",
        "def square(num):\n",
        "    return num * num\n",
        "```\n",
        "\n",
        "Guidelines:\n",
        "1. Review the code and check it against PEP 8 guidelines.\n",
        "2. Write your answer in the cell provided below.\n",
        "\n",
        "Hint: Pay attention to spaces, indentation, and formatting.\n"
      ]
    },
    {
      "cell_type": "code",
      "execution_count": null,
      "metadata": {
        "id": "7pVtBEvvdwsj"
      },
      "outputs": [],
      "source": []
    },
    {
      "cell_type": "markdown",
      "metadata": {
        "id": "iBOXaiSBgdyZ"
      },
      "source": [
        "Your Answer here: Implementation B is the correct one"
      ]
    },
    {
      "cell_type": "markdown",
      "metadata": {
        "id": "lV3AHZRCgjSn"
      },
      "source": [
        "---"
      ]
    },
    {
      "cell_type": "markdown",
      "metadata": {
        "id": "ZXMx4UOrglsG"
      },
      "source": [
        "## Problem 2: Looping with Functions (Normal)\n",
        "Write a function called `filter_even_numbers` that accepts a list of integers and returns a new list containing only the even numbers.\n",
        "\n",
        "Guidelines:\n",
        "1. Define a function with one parameter for the input list.\n",
        "2. Use a loop to iterate through the list.\n",
        "3. Use conditional statements to check if a number is even.\n",
        "4. Append the even numbers to a new list and return it."
      ]
    },
    {
      "cell_type": "code",
      "execution_count": 1,
      "metadata": {
        "id": "g78jl_b4hB0Z"
      },
      "outputs": [],
      "source": [
        "# Your code here\n",
        "\n",
        "def filter_even_numbers(numbers):\n",
        "    \"\"\"\n",
        "    Function to filter even numbers from a list.\n",
        "\n",
        "    Parameters:\n",
        "    numbers (list): A list of integers.\n",
        "\n",
        "    Returns:\n",
        "    list: A list of even integers.\n",
        "    \"\"\"\n",
        "    # Your implementation here\n",
        "    even_numbers = []\n",
        "    for num in numbers:\n",
        "        if num % 2 == 0:\n",
        "            even_numbers.append(num)\n",
        "    return even_numbers"
      ]
    },
    {
      "cell_type": "markdown",
      "metadata": {
        "id": "OJjSUA2hhFq2"
      },
      "source": [
        "---"
      ]
    },
    {
      "cell_type": "markdown",
      "metadata": {
        "id": "SAINiFrYhIOA"
      },
      "source": [
        "## Problem 3: Real-World Data Structures (Hard)\n",
        "Write a program that helps track attendees at a meeting. Create a function called `get_absentees` that takes a list of registered participants and a list of attendees, and returns a set of absentees.\n",
        "\n",
        "Guidelines:\n",
        "1. Define a function with two parameters: the registered participants and the attendees.\n",
        "2. Use `set()` to handle the data.\n",
        "3. Use set operations to find the absentees (registered participants not in attendees).\n",
        "4. Return the result as a set."
      ]
    },
    {
      "cell_type": "code",
      "execution_count": 3,
      "metadata": {
        "id": "H8uJ0rg3hF5t"
      },
      "outputs": [],
      "source": [
        "# Your code here\n",
        "\n",
        "def get_absentees(registered, attendees):\n",
        "    \"\"\"\n",
        "    Function to get the set of absentees from a meeting.\n",
        "\n",
        "    Parameters:\n",
        "    registered (list): A list of registered participants.\n",
        "    attendees (list): A list of attendees.\n",
        "\n",
        "    Returns:\n",
        "    set: A set of absentees.\n",
        "    \"\"\"\n",
        "    # Your implementation here\n",
        "    registered_set = set(registered)\n",
        "    attendees_set = set(attendees)\n",
        "    absentees = registered_set - attendees_set\n",
        "    return absentees"
      ]
    },
    {
      "cell_type": "markdown",
      "metadata": {
        "id": "PP3XBUIahSeb"
      },
      "source": [
        "---\n"
      ]
    },
    {
      "cell_type": "markdown",
      "metadata": {
        "id": "-QpnPt3hhULd"
      },
      "source": [
        "### Thank you for taking the time to view and answer this :D!\n",
        "I hope you guys had fun doing this, wishing you all the best."
      ]
    },
    {
      "cell_type": "markdown",
      "metadata": {
        "id": "r7Zbhm8RheGp"
      },
      "source": [
        "## Additional Resources\n",
        "- [Introduction to Python | DataCamp](https://www.datacamp.com/courses/intro-to-python-for-data-science)"
      ]
    }
  ],
  "metadata": {
    "colab": {
      "provenance": []
    },
    "kernelspec": {
      "display_name": "base",
      "language": "python",
      "name": "python3"
    },
    "language_info": {
      "codemirror_mode": {
        "name": "ipython",
        "version": 3
      },
      "file_extension": ".py",
      "mimetype": "text/x-python",
      "name": "python",
      "nbconvert_exporter": "python",
      "pygments_lexer": "ipython3",
      "version": "3.12.7"
    }
  },
  "nbformat": 4,
  "nbformat_minor": 0
}
